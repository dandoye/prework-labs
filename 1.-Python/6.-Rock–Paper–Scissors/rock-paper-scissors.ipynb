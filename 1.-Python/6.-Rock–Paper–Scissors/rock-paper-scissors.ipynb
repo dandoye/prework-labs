{
 "cells": [
  {
   "cell_type": "markdown",
   "metadata": {},
   "source": [
    "<img src=\"https://bit.ly/2VnXWr2\" width=\"100\" align=\"left\">"
   ]
  },
  {
   "cell_type": "markdown",
   "metadata": {},
   "source": [
    "# Rock, Paper & Scissors\n",
    "\n",
    "Let's play the famous game against our computer. You can check the rules [here](https://en.wikipedia.org/wiki/Rock%E2%80%93paper%E2%80%93scissors). \n",
    "\n",
    "## Task\n",
    "Create a program that imitates the playability of the well known game of rock, paper, scissors. Follow the guidelines provided.\n",
    "\n",
    "## Tools\n",
    "1. Loop: **for/while**\n",
    "2. Functions: **input(), print()...**\n",
    "3. Conditional statements: **if, elif, else**\n",
    "4. Definition of functions. Modular programming\n",
    "5. Import modules\n",
    "\n",
    "**To solve this challenge, the use of functions is recommended.**\n",
    "\n",
    "#### 1. Import the choice function of the random module."
   ]
  },
  {
   "cell_type": "code",
   "execution_count": 1,
   "metadata": {},
   "outputs": [],
   "source": [
    "import random"
   ]
  },
  {
   "cell_type": "markdown",
   "metadata": {},
   "source": [
    "#### 2. Create a list that includes the 3 possible gesture options of the game: 'rock', 'paper' or 'scissors'. Store the list in a variable called `gestures`."
   ]
  },
  {
   "cell_type": "code",
   "execution_count": 2,
   "metadata": {},
   "outputs": [],
   "source": [
    "gestures = ['rock','paper','scissors']"
   ]
  },
  {
   "cell_type": "markdown",
   "metadata": {},
   "source": [
    "#### 3. Create a variable called `n_rounds` to store the maximum number of rounds to play in a game. \n",
    "Remember that the number of rounds must be odd: 1, 3, 5, ..."
   ]
  },
  {
   "cell_type": "code",
   "execution_count": 3,
   "metadata": {},
   "outputs": [
    {
     "name": "stdout",
     "output_type": "stream",
     "text": [
      "Rounds in this game: 5\n"
     ]
    }
   ],
   "source": [
    "n_rounds = random.randint(0,3) * 2 + 1\n",
    "\n",
    "print(\"Rounds in this game:\", n_rounds)"
   ]
  },
  {
   "cell_type": "markdown",
   "metadata": {},
   "source": [
    "#### 4. Create a variable called `rounds_to_win` to store the number of rounds that a player must win to win the game.\n",
    "**Hint**: the value stored in `rounds_to_win` depends on the value of `n_rounds`. "
   ]
  },
  {
   "cell_type": "code",
   "execution_count": 4,
   "metadata": {},
   "outputs": [
    {
     "name": "stdout",
     "output_type": "stream",
     "text": [
      "Win 3.0 rounds to win this game.\n"
     ]
    }
   ],
   "source": [
    "rounds_to_win = n_rounds / 2 + 0.5\n",
    "\n",
    "print(\"Win\", rounds_to_win, \"rounds to win this game.\")"
   ]
  },
  {
   "cell_type": "markdown",
   "metadata": {},
   "source": [
    "#### 5. Create two variables to store the number of rounds that the computer and the player have won. Call these variables `cpu_score` and `player_score`."
   ]
  },
  {
   "cell_type": "code",
   "execution_count": 5,
   "metadata": {},
   "outputs": [],
   "source": [
    "cpu_score = 0\n",
    "player_score = 0"
   ]
  },
  {
   "cell_type": "markdown",
   "metadata": {},
   "source": [
    "#### 6. Define a function that randomly returns one of the 3 gesture options.\n",
    "You will use this function to simulate the gesture choice of the computer. "
   ]
  },
  {
   "cell_type": "code",
   "execution_count": 6,
   "metadata": {},
   "outputs": [],
   "source": [
    "def computer_gesture_choice():\n",
    "    computer_gesture = random.choice(gestures)\n",
    "    return computer_gesture"
   ]
  },
  {
   "cell_type": "markdown",
   "metadata": {},
   "source": [
    "#### 7. Define a function that asks the player which is the gesture he or she wants to show: 'rock', 'paper' or 'scissors'.\n",
    "The player should only be allowed to choose one of the 3 gesture options. If the player's choice is not rock, paper or scissors, keep asking until it is."
   ]
  },
  {
   "cell_type": "code",
   "execution_count": 7,
   "metadata": {},
   "outputs": [],
   "source": [
    "def player_gesture_choice():\n",
    "    while True:\n",
    "        print(\"Choose your move by entering one of the three options: rock, paper, scissors\")\n",
    "        player_gesture = input(\"Choose a move:\")    \n",
    "        if player_gesture == \"rock\" or player_gesture == \"paper\" or player_gesture == \"scissors\":\n",
    "            print(\"You played your move.\")\n",
    "        else:\n",
    "            print(\"Please enter one of the given options.\")\n",
    "        return player_gesture"
   ]
  },
  {
   "cell_type": "markdown",
   "metadata": {},
   "source": [
    "#### 8. Define a function that checks who won a round. \n",
    "The function should return 0 if there is a tie, 1 if the computer wins and 2 if the player wins."
   ]
  },
  {
   "cell_type": "code",
   "execution_count": 8,
   "metadata": {},
   "outputs": [],
   "source": [
    "def find_winner():\n",
    "    if computer_gesture == player_gesture:\n",
    "        return 0\n",
    "    elif computer_gesture == \"rock\" and player_gesture == \"scissors\":\n",
    "        return 1\n",
    "    elif computer_gesture == \"paper\" and player_gesture == \"rock\":\n",
    "        return 1\n",
    "    elif computer_gesture == \"scissors\" and player_gesture == \"paper\":\n",
    "        return 1\n",
    "    else:\n",
    "        return 2"
   ]
  },
  {
   "cell_type": "markdown",
   "metadata": {},
   "source": [
    "#### 9. Define a function that prints the choice of the computer, the choice of the player and a message that announces who won the current round. \n"
   ]
  },
  {
   "cell_type": "code",
   "execution_count": 9,
   "metadata": {},
   "outputs": [],
   "source": [
    "def result():\n",
    "    print(\"Computer's Move: %s\" % computer_gesture)\n",
    "    print(\"Your Move: %s\" % player_gesture)\n",
    "    if winner == 0:\n",
    "        print(\"This round was a tie.\")\n",
    "    elif winner == 1:\n",
    "        print(\"Computer wins this round.\")\n",
    "    else:\n",
    "        print(\"You win this round.\")"
   ]
  },
  {
   "cell_type": "markdown",
   "metadata": {},
   "source": [
    "#### 10. Now it's time to code the execution of the game using the functions and variables you defined above. \n",
    "\n",
    "First, create a loop structure that repeats while no player reaches the minimum score necessary to win and the number of rounds is less than the maximum number of rounds to play in a game.  \n",
    "\n",
    "Inside the loop, use the functions and variables above to create the execution of a round: ask for the player's choice, generate the random choice of the computer, show the round results, **update the scores**, etc. "
   ]
  },
  {
   "cell_type": "code",
   "execution_count": 10,
   "metadata": {},
   "outputs": [
    {
     "name": "stdout",
     "output_type": "stream",
     "text": [
      "Welcome to Rock, Paper, Scissors!\n",
      "---This is round number 1 ---\n",
      "There are 5 rounds in this game. You need to win 3.0 rounds to win the game!\n",
      "Choose your move by entering one of the three options: rock, paper, scissors\n",
      "Choose a move:rock\n",
      "You played your move.\n",
      "Computer's Move: paper\n",
      "Your Move: rock\n",
      "Computer wins this round.\n",
      "Current Record: Computer won 1 rounds and you won 0 rounds.\n",
      "---This is round number 2 ---\n",
      "There are 5 rounds in this game. You need to win 3.0 rounds to win the game!\n",
      "Choose your move by entering one of the three options: rock, paper, scissors\n",
      "Choose a move:scissors\n",
      "You played your move.\n",
      "Computer's Move: scissors\n",
      "Your Move: scissors\n",
      "This round was a tie.\n",
      "Current Record: Computer won 1 rounds and you won 0 rounds.\n",
      "---This is round number 3 ---\n",
      "There are 5 rounds in this game. You need to win 3.0 rounds to win the game!\n",
      "Choose your move by entering one of the three options: rock, paper, scissors\n",
      "Choose a move:scissors\n",
      "You played your move.\n",
      "Computer's Move: paper\n",
      "Your Move: scissors\n",
      "You win this round.\n",
      "Current Record: Computer won 1 rounds and you won 1 rounds.\n",
      "---This is round number 4 ---\n",
      "There are 5 rounds in this game. You need to win 3.0 rounds to win the game!\n",
      "Choose your move by entering one of the three options: rock, paper, scissors\n",
      "Choose a move:paper\n",
      "You played your move.\n",
      "Computer's Move: rock\n",
      "Your Move: paper\n",
      "You win this round.\n",
      "Current Record: Computer won 1 rounds and you won 2 rounds.\n",
      "---This is round number 5 ---\n",
      "There are 5 rounds in this game. You need to win 3.0 rounds to win the game!\n",
      "Choose your move by entering one of the three options: rock, paper, scissors\n",
      "Choose a move:scissors\n",
      "You played your move.\n",
      "Computer's Move: rock\n",
      "Your Move: scissors\n",
      "Computer wins this round.\n",
      "Current Record: Computer won 2 rounds and you won 2 rounds.\n"
     ]
    }
   ],
   "source": [
    "round_number = 0\n",
    "\n",
    "print(\"Welcome to Rock, Paper, Scissors!\")\n",
    "\n",
    "while (cpu_score <= rounds_to_win or player_score <= rounds_to_win) and round_number < n_rounds:\n",
    "    round_number += 1\n",
    "    print(\"---This is round number\", round_number,\"---\")\n",
    "    print(\"There are\", n_rounds, \"rounds in this game. You need to win\", rounds_to_win, \"rounds to win the game!\")\n",
    "    \n",
    "    player_gesture = player_gesture_choice()\n",
    "    \n",
    "    computer_gesture = computer_gesture_choice()\n",
    "    \n",
    "    winner = find_winner()\n",
    "    if winner == 1:\n",
    "        cpu_score += 1\n",
    "    elif winner == 2:\n",
    "        player_score += 1\n",
    "    else:\n",
    "        cpu_score = cpu_score\n",
    "        player_score = player_score\n",
    "    \n",
    "    result()\n",
    "    \n",
    "    print(\"Current Record: Computer won\", cpu_score, \"rounds and you won\", player_score, \"rounds.\")"
   ]
  },
  {
   "cell_type": "markdown",
   "metadata": {},
   "source": [
    "#### 11. Print the winner of the game based on who won more rounds.\n",
    "Remember that the game might be tied. "
   ]
  },
  {
   "cell_type": "code",
   "execution_count": 11,
   "metadata": {},
   "outputs": [
    {
     "name": "stdout",
     "output_type": "stream",
     "text": [
      "This game ended in a tie.\n"
     ]
    }
   ],
   "source": [
    "if cpu_score < player_score:\n",
    "    print(\"Congratulations, you have won the game!\")\n",
    "elif cpu_score > player_score:\n",
    "    print(\"Sorry, you have lost the game!\")\n",
    "else:\n",
    "    print(\"This game ended in a tie.\")"
   ]
  },
  {
   "cell_type": "markdown",
   "metadata": {},
   "source": [
    "# Bonus: Rock, Paper, Scissors, Lizard & Spock\n",
    "![](images/rpsls.jpg)\n",
    "\n",
    "In this challenge, you need to improve the previous game by adding two new options. To know more about the rules of the improved version of rock, paper, scissors, check this [link](http://www.samkass.com/theories/RPSSL.html). \n",
    "\n",
    "In addition, you will also need to improve how the game interacts with the player: the number of rounds to play, which must be an odd number, will be requested to the user until a valid number is entered. Define a new function to make that request.\n",
    "\n",
    "**Hint**: Try to reuse the code that you already coded in the previous challenge. If your code is efficient, this bonus will only consist of simple modifications to the original game."
   ]
  },
  {
   "cell_type": "code",
   "execution_count": 12,
   "metadata": {},
   "outputs": [
    {
     "name": "stdout",
     "output_type": "stream",
     "text": [
      "Welcome to Rock, Paper, Scissors, Lizard, Spock!\n",
      "How many rounds do you want to play?7\n",
      "Great! You will play 7 rounds.\n",
      "---This is round number 1 ---\n",
      "There are 7 rounds in this game. You need to win 4.0 rounds to win the game!\n",
      "Choose your move by entering one of the five options: rock, paper, scissors, lizard, spock\n",
      "Choose a move:lizard\n",
      "You played your move.\n",
      "Computer's Move: lizard\n",
      "Your Move: lizard\n",
      "This round was a tie.\n",
      "Current Record: Computer won 0 rounds and you won 0 rounds.\n",
      "---This is round number 2 ---\n",
      "There are 7 rounds in this game. You need to win 4.0 rounds to win the game!\n",
      "Choose your move by entering one of the five options: rock, paper, scissors, lizard, spock\n",
      "Choose a move:spock\n",
      "You played your move.\n",
      "Computer's Move: paper\n",
      "Your Move: spock\n",
      "Computer wins this round.\n",
      "Current Record: Computer won 1 rounds and you won 0 rounds.\n",
      "---This is round number 3 ---\n",
      "There are 7 rounds in this game. You need to win 4.0 rounds to win the game!\n",
      "Choose your move by entering one of the five options: rock, paper, scissors, lizard, spock\n",
      "Choose a move:paper\n",
      "You played your move.\n",
      "Computer's Move: spock\n",
      "Your Move: paper\n",
      "You win this round.\n",
      "Current Record: Computer won 1 rounds and you won 1 rounds.\n",
      "---This is round number 4 ---\n",
      "There are 7 rounds in this game. You need to win 4.0 rounds to win the game!\n",
      "Choose your move by entering one of the five options: rock, paper, scissors, lizard, spock\n",
      "Choose a move:rock\n",
      "You played your move.\n",
      "Computer's Move: paper\n",
      "Your Move: rock\n",
      "Computer wins this round.\n",
      "Current Record: Computer won 2 rounds and you won 1 rounds.\n",
      "---This is round number 5 ---\n",
      "There are 7 rounds in this game. You need to win 4.0 rounds to win the game!\n",
      "Choose your move by entering one of the five options: rock, paper, scissors, lizard, spock\n",
      "Choose a move:scissors\n",
      "You played your move.\n",
      "Computer's Move: scissors\n",
      "Your Move: scissors\n",
      "This round was a tie.\n",
      "Current Record: Computer won 2 rounds and you won 1 rounds.\n",
      "---This is round number 6 ---\n",
      "There are 7 rounds in this game. You need to win 4.0 rounds to win the game!\n",
      "Choose your move by entering one of the five options: rock, paper, scissors, lizard, spock\n",
      "Choose a move:lizard\n",
      "You played your move.\n",
      "Computer's Move: rock\n",
      "Your Move: lizard\n",
      "Computer wins this round.\n",
      "Current Record: Computer won 3 rounds and you won 1 rounds.\n",
      "---This is round number 7 ---\n",
      "There are 7 rounds in this game. You need to win 4.0 rounds to win the game!\n",
      "Choose your move by entering one of the five options: rock, paper, scissors, lizard, spock\n",
      "Choose a move:lizard\n",
      "You played your move.\n",
      "Computer's Move: lizard\n",
      "Your Move: lizard\n",
      "This round was a tie.\n",
      "Current Record: Computer won 3 rounds and you won 1 rounds.\n",
      "Sorry, you have lost the game!\n"
     ]
    }
   ],
   "source": [
    "# function for player to choose number of rounds\n",
    "\n",
    "def n_rounds_choice():\n",
    "    n_rounds = int(input(\"How many rounds do you want to play?\"))    \n",
    "    if n_rounds % 2 != 0:\n",
    "        print(\"Great! You will play %d rounds.\" % n_rounds)\n",
    "    else:\n",
    "        while n_rounds % 2 == 0:\n",
    "            if n_rounds % 2 == 0:\n",
    "                n_rounds = int(input(\"Please enter an odd number of rounds so we can decide a winner.\"))\n",
    "                if n_rounds % 2 != 0:\n",
    "                    print(\"Great! You will play %d rounds.\" % n_rounds)\n",
    "    return n_rounds\n",
    "\n",
    "\n",
    "\n",
    "# function for player to choose move out of the 5 options\n",
    "\n",
    "def player_gesture_choice():\n",
    "    while True:\n",
    "        print(\"Choose your move by entering one of the five options: rock, paper, scissors, lizard, spock\")\n",
    "        player_gesture = input(\"Choose a move:\")    \n",
    "        if player_gesture == \"rock\" or player_gesture == \"paper\" or player_gesture == \"scissors\" or player_gesture == \"lizard\" or player_gesture == \"spock\":\n",
    "            print(\"You played your move.\")\n",
    "        else:\n",
    "            print(\"Please enter one of the given options.\")\n",
    "        return player_gesture\n",
    "    \n",
    "\n",
    "\n",
    "# function for finding winner of each round\n",
    "    \n",
    "def find_winner():\n",
    "    if computer_gesture == player_gesture:\n",
    "        return 0\n",
    "    elif computer_gesture == \"rock\" and (player_gesture == \"scissors\" or player_gesture == \"lizard\"):\n",
    "        return 1\n",
    "    elif computer_gesture == \"paper\" and (player_gesture == \"rock\" or player_gesture == \"spock\"):\n",
    "        return 1\n",
    "    elif computer_gesture == \"scissors\" and (player_gesture == \"paper\" or player_gesture == \"lizard\"):\n",
    "        return 1\n",
    "    elif computer_gesture == \"lizard\" and (player_gesture == \"paper\" or player_gesture == \"spock\"):\n",
    "        return 1\n",
    "    elif computer_gesture == \"spock\" and (player_gesture == \"scissors\" or player_gesture == \"rock\"):\n",
    "        return 1\n",
    "    else:\n",
    "        return 2\n",
    "\n",
    "\n",
    "# variables\n",
    "round_number = 0\n",
    "gestures = ['rock','paper','scissors','lizard','spock']\n",
    "cpu_score = 0\n",
    "player_score = 0\n",
    "\n",
    "\n",
    "# Start Game\n",
    "\n",
    "print(\"Welcome to Rock, Paper, Scissors, Lizard, Spock!\")\n",
    "\n",
    "n_rounds = n_rounds_choice()\n",
    "rounds_to_win = n_rounds / 2 + 0.5\n",
    "\n",
    "while (cpu_score <= rounds_to_win or player_score <= rounds_to_win) and round_number < n_rounds:\n",
    "    round_number += 1\n",
    "    print(\"---This is round number\", round_number,\"---\")\n",
    "    print(\"There are\", n_rounds, \"rounds in this game. You need to win\", rounds_to_win, \"rounds to win the game!\")\n",
    "    \n",
    "    player_gesture = player_gesture_choice()\n",
    "    \n",
    "    computer_gesture = computer_gesture_choice()\n",
    "    \n",
    "    winner = find_winner()\n",
    "    if winner == 1:\n",
    "        cpu_score += 1\n",
    "    elif winner == 2:\n",
    "        player_score += 1\n",
    "    else:\n",
    "        cpu_score = cpu_score\n",
    "        player_score = player_score\n",
    "    \n",
    "    result()\n",
    "    \n",
    "    print(\"Current Record: Computer won\", cpu_score, \"rounds and you won\", player_score, \"rounds.\")\n",
    "    \n",
    "\n",
    "if cpu_score < player_score:\n",
    "    print(\"Congratulations, you have won the game!\")\n",
    "elif cpu_score > player_score:\n",
    "    print(\"Sorry, you have lost the game!\")\n",
    "else:\n",
    "    print(\"This game ended in a tie.\")"
   ]
  },
  {
   "cell_type": "code",
   "execution_count": null,
   "metadata": {},
   "outputs": [],
   "source": []
  }
 ],
 "metadata": {
  "kernelspec": {
   "display_name": "Python 3",
   "language": "python",
   "name": "python3"
  },
  "language_info": {
   "codemirror_mode": {
    "name": "ipython",
    "version": 3
   },
   "file_extension": ".py",
   "mimetype": "text/x-python",
   "name": "python",
   "nbconvert_exporter": "python",
   "pygments_lexer": "ipython3",
   "version": "3.7.3"
  }
 },
 "nbformat": 4,
 "nbformat_minor": 2
}
